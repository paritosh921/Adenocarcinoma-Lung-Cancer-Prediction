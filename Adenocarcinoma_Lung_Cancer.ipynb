{
  "nbformat": 4,
  "nbformat_minor": 0,
  "metadata": {
    "colab": {
      "provenance": [],
      "gpuType": "T4"
    },
    "kernelspec": {
      "name": "python3",
      "display_name": "Python 3"
    },
    "language_info": {
      "name": "python"
    },
    "accelerator": "GPU"
  },
  "cells": [
    {
      "cell_type": "code",
      "execution_count": 77,
      "metadata": {
        "id": "PDlGLbaQrxif",
        "colab": {
          "base_uri": "https://localhost:8080/"
        },
        "outputId": "bada137a-bf85-48fd-9df4-19bdebcb1111"
      },
      "outputs": [
        {
          "output_type": "stream",
          "name": "stdout",
          "text": [
            "Drive already mounted at /content/drive; to attempt to forcibly remount, call drive.mount(\"/content/drive\", force_remount=True).\n"
          ]
        }
      ],
      "source": [
        "from google.colab import drive\n",
        "drive.mount('/content/drive')"
      ]
    },
    {
      "cell_type": "code",
      "source": [
        "import tensorflow as tf\n",
        "from tensorflow.keras import models, layers\n",
        "import matplotlib.pyplot as plt\n",
        "import os\n",
        "import numpy as np\n",
        "import cv2\n",
        "from glob import glob"
      ],
      "metadata": {
        "id": "I1FQJp_vsFkc"
      },
      "execution_count": 78,
      "outputs": []
    },
    {
      "cell_type": "code",
      "source": [
        "os.environ[\"PHTHONHASHSEED\"] = str(42)\n",
        "np.random.seed(42)\n",
        "tf.random.set_seed(42)"
      ],
      "metadata": {
        "id": "WlgFjXeX58Ag"
      },
      "execution_count": 79,
      "outputs": []
    },
    {
      "cell_type": "code",
      "source": [
        "batch_size = 4\n",
        "lr = 1e-4\n",
        "epochs = 4\n",
        "height = 752\n",
        "width = 432"
      ],
      "metadata": {
        "id": "Pl5RLX_H5-lI"
      },
      "execution_count": 80,
      "outputs": []
    },
    {
      "cell_type": "code",
      "source": [
        "drive_path = \"/content/drive/MyDrive/\""
      ],
      "metadata": {
        "id": "LSRNdBUs6DP2"
      },
      "execution_count": 81,
      "outputs": []
    },
    {
      "cell_type": "code",
      "source": [
        "dataset_path = os.path.join(drive_path,\"Cancer Dataset\")\n",
        "\n",
        "files_dir = os.path.join(drive_path ,\"Colab Notebooks\",\"files2\",\"non-aug2\")\n",
        "model_file = os.path.join(files_dir,\"Unet-non-aug.h5\")\n",
        "log_file = os.path.join(files_dir,\"Log-non-aug.csv\")"
      ],
      "metadata": {
        "id": "3UR6fJFR6Gmm"
      },
      "execution_count": 82,
      "outputs": []
    },
    {
      "cell_type": "markdown",
      "source": [
        "### Creating folder"
      ],
      "metadata": {
        "id": "NQavEoj66Gpr"
      }
    },
    {
      "cell_type": "code",
      "source": [
        "def create_dir(path):\n",
        "  if not os.path.exists(path):\n",
        "    os.makedirs(path)"
      ],
      "metadata": {
        "id": "UgEdw6Lk6Gsm"
      },
      "execution_count": 83,
      "outputs": []
    },
    {
      "cell_type": "code",
      "source": [
        "create_dir(files_dir)"
      ],
      "metadata": {
        "id": "AJmeTHuh6Gv1"
      },
      "execution_count": 84,
      "outputs": []
    },
    {
      "cell_type": "markdown",
      "source": [
        "### Building UNET"
      ],
      "metadata": {
        "id": "vTQQMjXH7HK6"
      }
    },
    {
      "cell_type": "markdown",
      "source": [
        "#### Conv Block"
      ],
      "metadata": {
        "id": "7LS3_29x7LUa"
      }
    },
    {
      "cell_type": "code",
      "source": [
        "from tensorflow.keras.layers import Conv2D, BatchNormalization, Activation\n",
        "\n",
        "def conv_block(inputs, num_filters):\n",
        "    x = Conv2D(num_filters, 3, padding=\"same\")(inputs)\n",
        "    x = BatchNormalization()(x)\n",
        "    x = Activation(\"relu\")(x)\n",
        "    x = Conv2D(num_filters, 3, padding=\"same\")(x)\n",
        "    x = BatchNormalization()(x)\n",
        "    x = Activation(\"relu\")(x)\n",
        "    return x"
      ],
      "metadata": {
        "id": "YtbndxDxAZvn"
      },
      "execution_count": 85,
      "outputs": []
    },
    {
      "cell_type": "markdown",
      "source": [
        "#### Encoder Block"
      ],
      "metadata": {
        "id": "zylJiSA2AaZo"
      }
    },
    {
      "cell_type": "code",
      "source": [
        "from tensorflow.keras.layers import MaxPooling2D\n",
        "\n",
        "def encoder_block(inputs, num_filters):\n",
        "    x = conv_block(inputs, num_filters)\n",
        "    p = MaxPooling2D((2, 2))(x)\n",
        "    return x,p"
      ],
      "metadata": {
        "id": "iBwZTKZ-AeIv"
      },
      "execution_count": 86,
      "outputs": []
    },
    {
      "cell_type": "markdown",
      "source": [
        "#### Decoder lock"
      ],
      "metadata": {
        "id": "x0Dvcrw6Ags4"
      }
    },
    {
      "cell_type": "code",
      "source": [
        "from tensorflow.keras.layers import Concatenate, Conv2DTranspose\n",
        "\n",
        "\n",
        "def decoder_block(inputs, skip, num_filters):\n",
        "    x = Conv2DTranspose(num_filters, (2, 2), strides=2, padding=\"same\")(inputs)\n",
        "\n",
        "    skip = tf.image.resize(skip, (x.shape[1], x.shape[2]))\n",
        "\n",
        "    x = Concatenate()([x, skip])\n",
        "    x = conv_block(x, num_filters)\n",
        "    return x"
      ],
      "metadata": {
        "id": "ZSflL9GpAjBi"
      },
      "execution_count": 87,
      "outputs": []
    },
    {
      "cell_type": "markdown",
      "source": [
        "#### UNET"
      ],
      "metadata": {
        "id": "f-kMDfw2Av1j"
      }
    },
    {
      "cell_type": "code",
      "source": [
        "from keras.layers import Input\n",
        "from keras.layers import Conv2D\n",
        "import tensorflow as tf\n",
        "\n",
        "def build_unet(input_shape):\n",
        "    inputs = Input(shape=input_shape)\n",
        "\n",
        "    \"\"\"Encoder\"\"\"\n",
        "    s1, p1 = encoder_block(inputs, 64)\n",
        "    s2, p2 = encoder_block(p1, 128)\n",
        "    s3, p3 = encoder_block(p2, 256)\n",
        "    s4, p4 = encoder_block(p3, 512)\n",
        "\n",
        "    \"\"\"Bridge\"\"\"\n",
        "    b1 = conv_block(p4, 1024)\n",
        "\n",
        "    \"\"\"Decoder\"\"\"\n",
        "    d1 = decoder_block(b1, s4, 512)\n",
        "    d2 = decoder_block(d1, s3, 256)\n",
        "    d3 = decoder_block(d2, s2, 128)\n",
        "    d4 = decoder_block(d3, s1, 64)\n",
        "\n",
        "    outputs = Conv2D(1, 1, padding=\"same\", activation=\"sigmoid\")(d4)\n",
        "\n",
        "    model = tf.keras.Model(inputs, outputs, name=\"UNET\")\n",
        "\n",
        "    return model"
      ],
      "metadata": {
        "id": "Uqp9m0OoAySL"
      },
      "execution_count": 88,
      "outputs": []
    },
    {
      "cell_type": "code",
      "source": [
        "import os\n",
        "from glob import glob\n",
        "\n",
        "def load_data(path):\n",
        "    train_x = sorted(glob(os.path.join(path, \"train\",\"adenocarcinoma\", \"*\")))\n",
        "    train_y = sorted(glob(os.path.join(path,\"train\",\"mask\", \"*\")))\n",
        "    valid_x = sorted(glob(os.path.join(path, \"valid\",\"adenocarcinoma\", \"*\")))\n",
        "    valid_y = sorted(glob(os.path.join(path,\"valid\",\"mask\", \"*\")))\n",
        "\n",
        "    return (train_x, train_y), (valid_x, valid_y)"
      ],
      "metadata": {
        "id": "dxW9Jb_cA1HU"
      },
      "execution_count": 89,
      "outputs": []
    },
    {
      "cell_type": "markdown",
      "source": [
        "#### Reading Images"
      ],
      "metadata": {
        "id": "CxMQY57iA3hz"
      }
    },
    {
      "cell_type": "code",
      "source": [
        "def read_image(path):\n",
        "  path = path.decode()\n",
        "  x = cv2.imread(path, cv2.IMREAD_COLOR)\n",
        "  x = x/255.0\n",
        "\n",
        "  return x"
      ],
      "metadata": {
        "id": "qTdstNE0A7ej"
      },
      "execution_count": 90,
      "outputs": []
    },
    {
      "cell_type": "code",
      "source": [
        "def read_mask(path):\n",
        "  path = path.decode()\n",
        "  x = cv2.imread(path, cv2.IMREAD_GRAYSCALE)\n",
        "  x = x/255.0\n",
        "  x = np.expand_dims(x, axis=-1)\n",
        "  return x"
      ],
      "metadata": {
        "id": "6kH7E52pA_PM"
      },
      "execution_count": 91,
      "outputs": []
    },
    {
      "cell_type": "markdown",
      "source": [
        "#### tf.data pipeline"
      ],
      "metadata": {
        "id": "eqejXRbuBAx0"
      }
    },
    {
      "cell_type": "code",
      "source": [
        "def tf_parse(x, y):\n",
        "    def _parse(x, y):\n",
        "        x = read_image(x)\n",
        "        y = read_mask(y)\n",
        "\n",
        "        x = tf.image.resize(x, [height, width])\n",
        "        y = tf.image.resize(y, [height, width])\n",
        "\n",
        "        x = tf.dtypes.cast(x, tf.float64)\n",
        "        y = tf.dtypes.cast(y, tf.float64)\n",
        "\n",
        "        return x, y\n",
        "\n",
        "    x, y = tf.numpy_function(_parse, [x, y], [tf.float64, tf.float64])\n",
        "    x.set_shape([height, width, 3])\n",
        "    y.set_shape([height, width, 1])\n",
        "\n",
        "    return x, y\n"
      ],
      "metadata": {
        "id": "STCRknv8BFs9"
      },
      "execution_count": 92,
      "outputs": []
    },
    {
      "cell_type": "code",
      "source": [
        "def tf_dataset(x, y, batch=1):\n",
        "    dataset = tf.data.Dataset.from_tensor_slices((x, y))\n",
        "    dataset = dataset.map(tf_parse, num_parallel_calls=tf.data.AUTOTUNE)\n",
        "    dataset = dataset.batch(batch)\n",
        "    dataset = dataset.prefetch(tf.data.AUTOTUNE)\n",
        "    return dataset"
      ],
      "metadata": {
        "id": "NzRnCXjqBHal"
      },
      "execution_count": 93,
      "outputs": []
    },
    {
      "cell_type": "code",
      "source": [
        "(train_x, train_y), (valid_x, valid_y) = load_data(dataset_path)"
      ],
      "metadata": {
        "id": "R7B5LNHIBJDN"
      },
      "execution_count": 94,
      "outputs": []
    },
    {
      "cell_type": "code",
      "source": [
        "print(f\"Train: {len(train_x)} - {len(train_y)}\")\n",
        "print(f\"Valid: {len(valid_x)} - {len(valid_y)}\")"
      ],
      "metadata": {
        "colab": {
          "base_uri": "https://localhost:8080/"
        },
        "id": "FZiLcyABBKqu",
        "outputId": "37529832-f3d7-4a9b-ed87-165ed0fad47e"
      },
      "execution_count": 95,
      "outputs": [
        {
          "output_type": "stream",
          "name": "stdout",
          "text": [
            "Train: 101 - 101\n",
            "Valid: 18 - 18\n"
          ]
        }
      ]
    },
    {
      "cell_type": "code",
      "source": [
        "train_dataset = tf_dataset(train_x, train_y, batch=batch_size)\n",
        "valid_dataset = tf_dataset(valid_x, valid_y, batch=batch_size)"
      ],
      "metadata": {
        "id": "uPubO-jyBMLG"
      },
      "execution_count": 96,
      "outputs": []
    },
    {
      "cell_type": "code",
      "source": [
        "for x,y in valid_dataset:\n",
        "  print(x.shape, y.shape)"
      ],
      "metadata": {
        "colab": {
          "base_uri": "https://localhost:8080/"
        },
        "id": "UINf4E1vgaZC",
        "outputId": "e5cc9ef7-d4d8-4cc9-c308-f4e79052be8d"
      },
      "execution_count": 97,
      "outputs": [
        {
          "output_type": "stream",
          "name": "stdout",
          "text": [
            "(4, 752, 432, 3) (4, 752, 432, 1)\n",
            "(4, 752, 432, 3) (4, 752, 432, 1)\n",
            "(4, 752, 432, 3) (4, 752, 432, 1)\n",
            "(4, 752, 432, 3) (4, 752, 432, 1)\n",
            "(2, 752, 432, 3) (2, 752, 432, 1)\n"
          ]
        }
      ]
    },
    {
      "cell_type": "code",
      "source": [
        "input_shape = (height, width, 3)\n",
        "model = build_unet(input_shape)"
      ],
      "metadata": {
        "id": "X1nll0fdgb9S"
      },
      "execution_count": 98,
      "outputs": []
    },
    {
      "cell_type": "code",
      "source": [
        "model.summary()"
      ],
      "metadata": {
        "colab": {
          "base_uri": "https://localhost:8080/"
        },
        "id": "N0Up7_wNggLD",
        "outputId": "0246dae2-4fb7-4bf8-ef9a-fa8845e13c1a"
      },
      "execution_count": 99,
      "outputs": [
        {
          "output_type": "stream",
          "name": "stdout",
          "text": [
            "Model: \"UNET\"\n",
            "__________________________________________________________________________________________________\n",
            " Layer (type)                Output Shape                 Param #   Connected to                  \n",
            "==================================================================================================\n",
            " input_2 (InputLayer)        [(None, 752, 432, 3)]        0         []                            \n",
            "                                                                                                  \n",
            " conv2d_19 (Conv2D)          (None, 752, 432, 64)         1792      ['input_2[0][0]']             \n",
            "                                                                                                  \n",
            " batch_normalization_18 (Ba  (None, 752, 432, 64)         256       ['conv2d_19[0][0]']           \n",
            " tchNormalization)                                                                                \n",
            "                                                                                                  \n",
            " activation_18 (Activation)  (None, 752, 432, 64)         0         ['batch_normalization_18[0][0]\n",
            "                                                                    ']                            \n",
            "                                                                                                  \n",
            " conv2d_20 (Conv2D)          (None, 752, 432, 64)         36928     ['activation_18[0][0]']       \n",
            "                                                                                                  \n",
            " batch_normalization_19 (Ba  (None, 752, 432, 64)         256       ['conv2d_20[0][0]']           \n",
            " tchNormalization)                                                                                \n",
            "                                                                                                  \n",
            " activation_19 (Activation)  (None, 752, 432, 64)         0         ['batch_normalization_19[0][0]\n",
            "                                                                    ']                            \n",
            "                                                                                                  \n",
            " max_pooling2d_4 (MaxPoolin  (None, 376, 216, 64)         0         ['activation_19[0][0]']       \n",
            " g2D)                                                                                             \n",
            "                                                                                                  \n",
            " conv2d_21 (Conv2D)          (None, 376, 216, 128)        73856     ['max_pooling2d_4[0][0]']     \n",
            "                                                                                                  \n",
            " batch_normalization_20 (Ba  (None, 376, 216, 128)        512       ['conv2d_21[0][0]']           \n",
            " tchNormalization)                                                                                \n",
            "                                                                                                  \n",
            " activation_20 (Activation)  (None, 376, 216, 128)        0         ['batch_normalization_20[0][0]\n",
            "                                                                    ']                            \n",
            "                                                                                                  \n",
            " conv2d_22 (Conv2D)          (None, 376, 216, 128)        147584    ['activation_20[0][0]']       \n",
            "                                                                                                  \n",
            " batch_normalization_21 (Ba  (None, 376, 216, 128)        512       ['conv2d_22[0][0]']           \n",
            " tchNormalization)                                                                                \n",
            "                                                                                                  \n",
            " activation_21 (Activation)  (None, 376, 216, 128)        0         ['batch_normalization_21[0][0]\n",
            "                                                                    ']                            \n",
            "                                                                                                  \n",
            " max_pooling2d_5 (MaxPoolin  (None, 188, 108, 128)        0         ['activation_21[0][0]']       \n",
            " g2D)                                                                                             \n",
            "                                                                                                  \n",
            " conv2d_23 (Conv2D)          (None, 188, 108, 256)        295168    ['max_pooling2d_5[0][0]']     \n",
            "                                                                                                  \n",
            " batch_normalization_22 (Ba  (None, 188, 108, 256)        1024      ['conv2d_23[0][0]']           \n",
            " tchNormalization)                                                                                \n",
            "                                                                                                  \n",
            " activation_22 (Activation)  (None, 188, 108, 256)        0         ['batch_normalization_22[0][0]\n",
            "                                                                    ']                            \n",
            "                                                                                                  \n",
            " conv2d_24 (Conv2D)          (None, 188, 108, 256)        590080    ['activation_22[0][0]']       \n",
            "                                                                                                  \n",
            " batch_normalization_23 (Ba  (None, 188, 108, 256)        1024      ['conv2d_24[0][0]']           \n",
            " tchNormalization)                                                                                \n",
            "                                                                                                  \n",
            " activation_23 (Activation)  (None, 188, 108, 256)        0         ['batch_normalization_23[0][0]\n",
            "                                                                    ']                            \n",
            "                                                                                                  \n",
            " max_pooling2d_6 (MaxPoolin  (None, 94, 54, 256)          0         ['activation_23[0][0]']       \n",
            " g2D)                                                                                             \n",
            "                                                                                                  \n",
            " conv2d_25 (Conv2D)          (None, 94, 54, 512)          1180160   ['max_pooling2d_6[0][0]']     \n",
            "                                                                                                  \n",
            " batch_normalization_24 (Ba  (None, 94, 54, 512)          2048      ['conv2d_25[0][0]']           \n",
            " tchNormalization)                                                                                \n",
            "                                                                                                  \n",
            " activation_24 (Activation)  (None, 94, 54, 512)          0         ['batch_normalization_24[0][0]\n",
            "                                                                    ']                            \n",
            "                                                                                                  \n",
            " conv2d_26 (Conv2D)          (None, 94, 54, 512)          2359808   ['activation_24[0][0]']       \n",
            "                                                                                                  \n",
            " batch_normalization_25 (Ba  (None, 94, 54, 512)          2048      ['conv2d_26[0][0]']           \n",
            " tchNormalization)                                                                                \n",
            "                                                                                                  \n",
            " activation_25 (Activation)  (None, 94, 54, 512)          0         ['batch_normalization_25[0][0]\n",
            "                                                                    ']                            \n",
            "                                                                                                  \n",
            " max_pooling2d_7 (MaxPoolin  (None, 47, 27, 512)          0         ['activation_25[0][0]']       \n",
            " g2D)                                                                                             \n",
            "                                                                                                  \n",
            " conv2d_27 (Conv2D)          (None, 47, 27, 1024)         4719616   ['max_pooling2d_7[0][0]']     \n",
            "                                                                                                  \n",
            " batch_normalization_26 (Ba  (None, 47, 27, 1024)         4096      ['conv2d_27[0][0]']           \n",
            " tchNormalization)                                                                                \n",
            "                                                                                                  \n",
            " activation_26 (Activation)  (None, 47, 27, 1024)         0         ['batch_normalization_26[0][0]\n",
            "                                                                    ']                            \n",
            "                                                                                                  \n",
            " conv2d_28 (Conv2D)          (None, 47, 27, 1024)         9438208   ['activation_26[0][0]']       \n",
            "                                                                                                  \n",
            " batch_normalization_27 (Ba  (None, 47, 27, 1024)         4096      ['conv2d_28[0][0]']           \n",
            " tchNormalization)                                                                                \n",
            "                                                                                                  \n",
            " activation_27 (Activation)  (None, 47, 27, 1024)         0         ['batch_normalization_27[0][0]\n",
            "                                                                    ']                            \n",
            "                                                                                                  \n",
            " conv2d_transpose_4 (Conv2D  (None, 94, 54, 512)          2097664   ['activation_27[0][0]']       \n",
            " Transpose)                                                                                       \n",
            "                                                                                                  \n",
            " tf.image.resize_4 (TFOpLam  (None, 94, 54, 512)          0         ['activation_25[0][0]']       \n",
            " bda)                                                                                             \n",
            "                                                                                                  \n",
            " concatenate_4 (Concatenate  (None, 94, 54, 1024)         0         ['conv2d_transpose_4[0][0]',  \n",
            " )                                                                   'tf.image.resize_4[0][0]']   \n",
            "                                                                                                  \n",
            " conv2d_29 (Conv2D)          (None, 94, 54, 512)          4719104   ['concatenate_4[0][0]']       \n",
            "                                                                                                  \n",
            " batch_normalization_28 (Ba  (None, 94, 54, 512)          2048      ['conv2d_29[0][0]']           \n",
            " tchNormalization)                                                                                \n",
            "                                                                                                  \n",
            " activation_28 (Activation)  (None, 94, 54, 512)          0         ['batch_normalization_28[0][0]\n",
            "                                                                    ']                            \n",
            "                                                                                                  \n",
            " conv2d_30 (Conv2D)          (None, 94, 54, 512)          2359808   ['activation_28[0][0]']       \n",
            "                                                                                                  \n",
            " batch_normalization_29 (Ba  (None, 94, 54, 512)          2048      ['conv2d_30[0][0]']           \n",
            " tchNormalization)                                                                                \n",
            "                                                                                                  \n",
            " activation_29 (Activation)  (None, 94, 54, 512)          0         ['batch_normalization_29[0][0]\n",
            "                                                                    ']                            \n",
            "                                                                                                  \n",
            " conv2d_transpose_5 (Conv2D  (None, 188, 108, 256)        524544    ['activation_29[0][0]']       \n",
            " Transpose)                                                                                       \n",
            "                                                                                                  \n",
            " tf.image.resize_5 (TFOpLam  (None, 188, 108, 256)        0         ['activation_23[0][0]']       \n",
            " bda)                                                                                             \n",
            "                                                                                                  \n",
            " concatenate_5 (Concatenate  (None, 188, 108, 512)        0         ['conv2d_transpose_5[0][0]',  \n",
            " )                                                                   'tf.image.resize_5[0][0]']   \n",
            "                                                                                                  \n",
            " conv2d_31 (Conv2D)          (None, 188, 108, 256)        1179904   ['concatenate_5[0][0]']       \n",
            "                                                                                                  \n",
            " batch_normalization_30 (Ba  (None, 188, 108, 256)        1024      ['conv2d_31[0][0]']           \n",
            " tchNormalization)                                                                                \n",
            "                                                                                                  \n",
            " activation_30 (Activation)  (None, 188, 108, 256)        0         ['batch_normalization_30[0][0]\n",
            "                                                                    ']                            \n",
            "                                                                                                  \n",
            " conv2d_32 (Conv2D)          (None, 188, 108, 256)        590080    ['activation_30[0][0]']       \n",
            "                                                                                                  \n",
            " batch_normalization_31 (Ba  (None, 188, 108, 256)        1024      ['conv2d_32[0][0]']           \n",
            " tchNormalization)                                                                                \n",
            "                                                                                                  \n",
            " activation_31 (Activation)  (None, 188, 108, 256)        0         ['batch_normalization_31[0][0]\n",
            "                                                                    ']                            \n",
            "                                                                                                  \n",
            " conv2d_transpose_6 (Conv2D  (None, 376, 216, 128)        131200    ['activation_31[0][0]']       \n",
            " Transpose)                                                                                       \n",
            "                                                                                                  \n",
            " tf.image.resize_6 (TFOpLam  (None, 376, 216, 128)        0         ['activation_21[0][0]']       \n",
            " bda)                                                                                             \n",
            "                                                                                                  \n",
            " concatenate_6 (Concatenate  (None, 376, 216, 256)        0         ['conv2d_transpose_6[0][0]',  \n",
            " )                                                                   'tf.image.resize_6[0][0]']   \n",
            "                                                                                                  \n",
            " conv2d_33 (Conv2D)          (None, 376, 216, 128)        295040    ['concatenate_6[0][0]']       \n",
            "                                                                                                  \n",
            " batch_normalization_32 (Ba  (None, 376, 216, 128)        512       ['conv2d_33[0][0]']           \n",
            " tchNormalization)                                                                                \n",
            "                                                                                                  \n",
            " activation_32 (Activation)  (None, 376, 216, 128)        0         ['batch_normalization_32[0][0]\n",
            "                                                                    ']                            \n",
            "                                                                                                  \n",
            " conv2d_34 (Conv2D)          (None, 376, 216, 128)        147584    ['activation_32[0][0]']       \n",
            "                                                                                                  \n",
            " batch_normalization_33 (Ba  (None, 376, 216, 128)        512       ['conv2d_34[0][0]']           \n",
            " tchNormalization)                                                                                \n",
            "                                                                                                  \n",
            " activation_33 (Activation)  (None, 376, 216, 128)        0         ['batch_normalization_33[0][0]\n",
            "                                                                    ']                            \n",
            "                                                                                                  \n",
            " conv2d_transpose_7 (Conv2D  (None, 752, 432, 64)         32832     ['activation_33[0][0]']       \n",
            " Transpose)                                                                                       \n",
            "                                                                                                  \n",
            " tf.image.resize_7 (TFOpLam  (None, 752, 432, 64)         0         ['activation_19[0][0]']       \n",
            " bda)                                                                                             \n",
            "                                                                                                  \n",
            " concatenate_7 (Concatenate  (None, 752, 432, 128)        0         ['conv2d_transpose_7[0][0]',  \n",
            " )                                                                   'tf.image.resize_7[0][0]']   \n",
            "                                                                                                  \n",
            " conv2d_35 (Conv2D)          (None, 752, 432, 64)         73792     ['concatenate_7[0][0]']       \n",
            "                                                                                                  \n",
            " batch_normalization_34 (Ba  (None, 752, 432, 64)         256       ['conv2d_35[0][0]']           \n",
            " tchNormalization)                                                                                \n",
            "                                                                                                  \n",
            " activation_34 (Activation)  (None, 752, 432, 64)         0         ['batch_normalization_34[0][0]\n",
            "                                                                    ']                            \n",
            "                                                                                                  \n",
            " conv2d_36 (Conv2D)          (None, 752, 432, 64)         36928     ['activation_34[0][0]']       \n",
            "                                                                                                  \n",
            " batch_normalization_35 (Ba  (None, 752, 432, 64)         256       ['conv2d_36[0][0]']           \n",
            " tchNormalization)                                                                                \n",
            "                                                                                                  \n",
            " activation_35 (Activation)  (None, 752, 432, 64)         0         ['batch_normalization_35[0][0]\n",
            "                                                                    ']                            \n",
            "                                                                                                  \n",
            " conv2d_37 (Conv2D)          (None, 752, 432, 1)          65        ['activation_35[0][0]']       \n",
            "                                                                                                  \n",
            "==================================================================================================\n",
            "Total params: 31055297 (118.47 MB)\n",
            "Trainable params: 31043521 (118.42 MB)\n",
            "Non-trainable params: 11776 (46.00 KB)\n",
            "__________________________________________________________________________________________________\n"
          ]
        }
      ]
    },
    {
      "cell_type": "code",
      "source": [
        "opt = tf.keras.optimizers.Adam(lr)\n",
        "model.compile(loss = \"binary_crossentropy\", optimizer = opt, metrics=[\"acc\"])"
      ],
      "metadata": {
        "id": "PSk2InI0giXT"
      },
      "execution_count": 100,
      "outputs": []
    },
    {
      "cell_type": "code",
      "source": [
        "from keras.callbacks import ModelCheckpoint, ReduceLROnPlateau, CSVLogger, EarlyStopping\n",
        "\n",
        "callbacks = [\n",
        "    ModelCheckpoint(model_file, verbose=1, save_best_only=True),\n",
        "    ReduceLROnPlateau(monitor=\"val_loss\", factor=0.1, patience=4),\n",
        "    CSVLogger(log_file),\n",
        "    EarlyStopping(monitor=\"val_loss\", patience=20, restore_best_weights=False)\n",
        "]\n"
      ],
      "metadata": {
        "id": "lez7TbjygmhN"
      },
      "execution_count": 101,
      "outputs": []
    },
    {
      "cell_type": "code",
      "source": [
        "model.fit(\n",
        "    train_dataset,\n",
        "    validation_data = valid_dataset,\n",
        "    epochs=epochs,\n",
        "    callbacks=callbacks\n",
        ")"
      ],
      "metadata": {
        "colab": {
          "base_uri": "https://localhost:8080/"
        },
        "id": "tKvUXcafgoQ9",
        "outputId": "9da967a6-e2bf-4a65-e177-fadfbc3d1223"
      },
      "execution_count": 102,
      "outputs": [
        {
          "output_type": "stream",
          "name": "stdout",
          "text": [
            "Epoch 1/4\n",
            "26/26 [==============================] - ETA: 0s - loss: 0.6728 - acc: 0.6434\n",
            "Epoch 1: val_loss improved from inf to 0.79220, saving model to /content/drive/MyDrive/Colab Notebooks/files2/non-aug2/Unet-non-aug.h5\n"
          ]
        },
        {
          "output_type": "stream",
          "name": "stderr",
          "text": [
            "/usr/local/lib/python3.10/dist-packages/keras/src/engine/training.py:3079: UserWarning: You are saving your model as an HDF5 file via `model.save()`. This file format is considered legacy. We recommend using instead the native Keras format, e.g. `model.save('my_model.keras')`.\n",
            "  saving_api.save_model(\n"
          ]
        },
        {
          "output_type": "stream",
          "name": "stdout",
          "text": [
            "\b\b\b\b\b\b\b\b\b\b\b\b\b\b\b\b\b\b\b\b\b\b\b\b\b\b\b\b\b\b\b\b\b\b\b\b\b\b\b\b\b\b\b\b\b\b\b\b\b\b\b\b\b\b\b\b\b\b\b\b\b\b\b\b\b\b\b\b\b\b\b\b\b\b\b\b\b\r26/26 [==============================] - 79s 3s/step - loss: 0.6728 - acc: 0.6434 - val_loss: 0.7922 - val_acc: 0.0728 - lr: 1.0000e-04\n",
            "Epoch 2/4\n",
            "26/26 [==============================] - ETA: 0s - loss: 0.2754 - acc: 0.9796\n",
            "Epoch 2: val_loss improved from 0.79220 to 0.59781, saving model to /content/drive/MyDrive/Colab Notebooks/files2/non-aug2/Unet-non-aug.h5\n",
            "26/26 [==============================] - 49s 2s/step - loss: 0.2754 - acc: 0.9796 - val_loss: 0.5978 - val_acc: 0.9806 - lr: 1.0000e-04\n",
            "Epoch 3/4\n",
            "26/26 [==============================] - ETA: 0s - loss: 0.2219 - acc: 0.9818\n",
            "Epoch 3: val_loss improved from 0.59781 to 0.54638, saving model to /content/drive/MyDrive/Colab Notebooks/files2/non-aug2/Unet-non-aug.h5\n",
            "26/26 [==============================] - 45s 2s/step - loss: 0.2219 - acc: 0.9818 - val_loss: 0.5464 - val_acc: 0.9540 - lr: 1.0000e-04\n",
            "Epoch 4/4\n",
            "26/26 [==============================] - ETA: 0s - loss: 0.1865 - acc: 0.9836\n",
            "Epoch 4: val_loss improved from 0.54638 to 0.48838, saving model to /content/drive/MyDrive/Colab Notebooks/files2/non-aug2/Unet-non-aug.h5\n",
            "26/26 [==============================] - 45s 2s/step - loss: 0.1865 - acc: 0.9836 - val_loss: 0.4884 - val_acc: 0.9801 - lr: 1.0000e-04\n"
          ]
        },
        {
          "output_type": "execute_result",
          "data": {
            "text/plain": [
              "<keras.src.callbacks.History at 0x7f363a397070>"
            ]
          },
          "metadata": {},
          "execution_count": 102
        }
      ]
    },
    {
      "cell_type": "markdown",
      "source": [
        "### Predicting the Masks"
      ],
      "metadata": {
        "id": "paf93ArsgrHd"
      }
    },
    {
      "cell_type": "code",
      "source": [
        "import os\n",
        "import time\n",
        "import numpy as np\n",
        "import cv2\n",
        "from glob import glob\n",
        "from tqdm import tqdm\n",
        "import tensorflow as tf"
      ],
      "metadata": {
        "id": "YnsT10Ec8-5-"
      },
      "execution_count": 103,
      "outputs": []
    },
    {
      "cell_type": "markdown",
      "source": [
        "### Seeding"
      ],
      "metadata": {
        "id": "6GYvgfio9Cr-"
      }
    },
    {
      "cell_type": "code",
      "source": [
        "os.environ[\"PHTHONHASHSEED\"] = str(42)\n",
        "np.random.seed(42)\n",
        "tf.random.set_seed(42)"
      ],
      "metadata": {
        "id": "G4cSYisz9W_h"
      },
      "execution_count": 104,
      "outputs": []
    },
    {
      "cell_type": "code",
      "source": [
        "height = 752\n",
        "width = 432"
      ],
      "metadata": {
        "id": "j44CSdCU9etB"
      },
      "execution_count": 105,
      "outputs": []
    },
    {
      "cell_type": "markdown",
      "source": [
        "### Test Path"
      ],
      "metadata": {
        "id": "aYoRHYFIjSQV"
      }
    },
    {
      "cell_type": "code",
      "source": [
        "dataset_path_test = \"/content/drive/MyDrive/Cancer Dataset/test2\"\n",
        "save_path = \"/content/drive/MyDrive/Cancer Dataset/ prediction/non-aug\"\n",
        "model_path = \"/content/drive/MyDrive/Colab Notebooks/files2/non-aug2/Unet-non-aug.h5\""
      ],
      "metadata": {
        "id": "REbDRGX_iF8N"
      },
      "execution_count": 106,
      "outputs": []
    },
    {
      "cell_type": "markdown",
      "source": [
        "### Folder Prediction"
      ],
      "metadata": {
        "id": "LkYQ2kgZjMaY"
      }
    },
    {
      "cell_type": "code",
      "source": [
        "create_dir(save_path)"
      ],
      "metadata": {
        "id": "qa40piH5iGEf"
      },
      "execution_count": 107,
      "outputs": []
    },
    {
      "cell_type": "markdown",
      "source": [
        "### Loading Model"
      ],
      "metadata": {
        "id": "np8M_ruviGHc"
      }
    },
    {
      "cell_type": "code",
      "source": [
        "model = tf.keras.models.load_model(model_path)"
      ],
      "metadata": {
        "id": "N0ICWXjniGKV"
      },
      "execution_count": 108,
      "outputs": []
    },
    {
      "cell_type": "code",
      "source": [
        "model.summary()"
      ],
      "metadata": {
        "colab": {
          "base_uri": "https://localhost:8080/"
        },
        "id": "Aq5TESpUiGNO",
        "outputId": "16326caa-7ab8-445e-b149-0b0a92e1d613"
      },
      "execution_count": 109,
      "outputs": [
        {
          "output_type": "stream",
          "name": "stdout",
          "text": [
            "Model: \"UNET\"\n",
            "__________________________________________________________________________________________________\n",
            " Layer (type)                Output Shape                 Param #   Connected to                  \n",
            "==================================================================================================\n",
            " input_2 (InputLayer)        [(None, 752, 432, 3)]        0         []                            \n",
            "                                                                                                  \n",
            " conv2d_19 (Conv2D)          (None, 752, 432, 64)         1792      ['input_2[0][0]']             \n",
            "                                                                                                  \n",
            " batch_normalization_18 (Ba  (None, 752, 432, 64)         256       ['conv2d_19[0][0]']           \n",
            " tchNormalization)                                                                                \n",
            "                                                                                                  \n",
            " activation_18 (Activation)  (None, 752, 432, 64)         0         ['batch_normalization_18[0][0]\n",
            "                                                                    ']                            \n",
            "                                                                                                  \n",
            " conv2d_20 (Conv2D)          (None, 752, 432, 64)         36928     ['activation_18[0][0]']       \n",
            "                                                                                                  \n",
            " batch_normalization_19 (Ba  (None, 752, 432, 64)         256       ['conv2d_20[0][0]']           \n",
            " tchNormalization)                                                                                \n",
            "                                                                                                  \n",
            " activation_19 (Activation)  (None, 752, 432, 64)         0         ['batch_normalization_19[0][0]\n",
            "                                                                    ']                            \n",
            "                                                                                                  \n",
            " max_pooling2d_4 (MaxPoolin  (None, 376, 216, 64)         0         ['activation_19[0][0]']       \n",
            " g2D)                                                                                             \n",
            "                                                                                                  \n",
            " conv2d_21 (Conv2D)          (None, 376, 216, 128)        73856     ['max_pooling2d_4[0][0]']     \n",
            "                                                                                                  \n",
            " batch_normalization_20 (Ba  (None, 376, 216, 128)        512       ['conv2d_21[0][0]']           \n",
            " tchNormalization)                                                                                \n",
            "                                                                                                  \n",
            " activation_20 (Activation)  (None, 376, 216, 128)        0         ['batch_normalization_20[0][0]\n",
            "                                                                    ']                            \n",
            "                                                                                                  \n",
            " conv2d_22 (Conv2D)          (None, 376, 216, 128)        147584    ['activation_20[0][0]']       \n",
            "                                                                                                  \n",
            " batch_normalization_21 (Ba  (None, 376, 216, 128)        512       ['conv2d_22[0][0]']           \n",
            " tchNormalization)                                                                                \n",
            "                                                                                                  \n",
            " activation_21 (Activation)  (None, 376, 216, 128)        0         ['batch_normalization_21[0][0]\n",
            "                                                                    ']                            \n",
            "                                                                                                  \n",
            " max_pooling2d_5 (MaxPoolin  (None, 188, 108, 128)        0         ['activation_21[0][0]']       \n",
            " g2D)                                                                                             \n",
            "                                                                                                  \n",
            " conv2d_23 (Conv2D)          (None, 188, 108, 256)        295168    ['max_pooling2d_5[0][0]']     \n",
            "                                                                                                  \n",
            " batch_normalization_22 (Ba  (None, 188, 108, 256)        1024      ['conv2d_23[0][0]']           \n",
            " tchNormalization)                                                                                \n",
            "                                                                                                  \n",
            " activation_22 (Activation)  (None, 188, 108, 256)        0         ['batch_normalization_22[0][0]\n",
            "                                                                    ']                            \n",
            "                                                                                                  \n",
            " conv2d_24 (Conv2D)          (None, 188, 108, 256)        590080    ['activation_22[0][0]']       \n",
            "                                                                                                  \n",
            " batch_normalization_23 (Ba  (None, 188, 108, 256)        1024      ['conv2d_24[0][0]']           \n",
            " tchNormalization)                                                                                \n",
            "                                                                                                  \n",
            " activation_23 (Activation)  (None, 188, 108, 256)        0         ['batch_normalization_23[0][0]\n",
            "                                                                    ']                            \n",
            "                                                                                                  \n",
            " max_pooling2d_6 (MaxPoolin  (None, 94, 54, 256)          0         ['activation_23[0][0]']       \n",
            " g2D)                                                                                             \n",
            "                                                                                                  \n",
            " conv2d_25 (Conv2D)          (None, 94, 54, 512)          1180160   ['max_pooling2d_6[0][0]']     \n",
            "                                                                                                  \n",
            " batch_normalization_24 (Ba  (None, 94, 54, 512)          2048      ['conv2d_25[0][0]']           \n",
            " tchNormalization)                                                                                \n",
            "                                                                                                  \n",
            " activation_24 (Activation)  (None, 94, 54, 512)          0         ['batch_normalization_24[0][0]\n",
            "                                                                    ']                            \n",
            "                                                                                                  \n",
            " conv2d_26 (Conv2D)          (None, 94, 54, 512)          2359808   ['activation_24[0][0]']       \n",
            "                                                                                                  \n",
            " batch_normalization_25 (Ba  (None, 94, 54, 512)          2048      ['conv2d_26[0][0]']           \n",
            " tchNormalization)                                                                                \n",
            "                                                                                                  \n",
            " activation_25 (Activation)  (None, 94, 54, 512)          0         ['batch_normalization_25[0][0]\n",
            "                                                                    ']                            \n",
            "                                                                                                  \n",
            " max_pooling2d_7 (MaxPoolin  (None, 47, 27, 512)          0         ['activation_25[0][0]']       \n",
            " g2D)                                                                                             \n",
            "                                                                                                  \n",
            " conv2d_27 (Conv2D)          (None, 47, 27, 1024)         4719616   ['max_pooling2d_7[0][0]']     \n",
            "                                                                                                  \n",
            " batch_normalization_26 (Ba  (None, 47, 27, 1024)         4096      ['conv2d_27[0][0]']           \n",
            " tchNormalization)                                                                                \n",
            "                                                                                                  \n",
            " activation_26 (Activation)  (None, 47, 27, 1024)         0         ['batch_normalization_26[0][0]\n",
            "                                                                    ']                            \n",
            "                                                                                                  \n",
            " conv2d_28 (Conv2D)          (None, 47, 27, 1024)         9438208   ['activation_26[0][0]']       \n",
            "                                                                                                  \n",
            " batch_normalization_27 (Ba  (None, 47, 27, 1024)         4096      ['conv2d_28[0][0]']           \n",
            " tchNormalization)                                                                                \n",
            "                                                                                                  \n",
            " activation_27 (Activation)  (None, 47, 27, 1024)         0         ['batch_normalization_27[0][0]\n",
            "                                                                    ']                            \n",
            "                                                                                                  \n",
            " conv2d_transpose_4 (Conv2D  (None, 94, 54, 512)          2097664   ['activation_27[0][0]']       \n",
            " Transpose)                                                                                       \n",
            "                                                                                                  \n",
            " tf.image.resize_4 (TFOpLam  (None, 94, 54, 512)          0         ['activation_25[0][0]']       \n",
            " bda)                                                                                             \n",
            "                                                                                                  \n",
            " concatenate_4 (Concatenate  (None, 94, 54, 1024)         0         ['conv2d_transpose_4[0][0]',  \n",
            " )                                                                   'tf.image.resize_4[0][0]']   \n",
            "                                                                                                  \n",
            " conv2d_29 (Conv2D)          (None, 94, 54, 512)          4719104   ['concatenate_4[0][0]']       \n",
            "                                                                                                  \n",
            " batch_normalization_28 (Ba  (None, 94, 54, 512)          2048      ['conv2d_29[0][0]']           \n",
            " tchNormalization)                                                                                \n",
            "                                                                                                  \n",
            " activation_28 (Activation)  (None, 94, 54, 512)          0         ['batch_normalization_28[0][0]\n",
            "                                                                    ']                            \n",
            "                                                                                                  \n",
            " conv2d_30 (Conv2D)          (None, 94, 54, 512)          2359808   ['activation_28[0][0]']       \n",
            "                                                                                                  \n",
            " batch_normalization_29 (Ba  (None, 94, 54, 512)          2048      ['conv2d_30[0][0]']           \n",
            " tchNormalization)                                                                                \n",
            "                                                                                                  \n",
            " activation_29 (Activation)  (None, 94, 54, 512)          0         ['batch_normalization_29[0][0]\n",
            "                                                                    ']                            \n",
            "                                                                                                  \n",
            " conv2d_transpose_5 (Conv2D  (None, 188, 108, 256)        524544    ['activation_29[0][0]']       \n",
            " Transpose)                                                                                       \n",
            "                                                                                                  \n",
            " tf.image.resize_5 (TFOpLam  (None, 188, 108, 256)        0         ['activation_23[0][0]']       \n",
            " bda)                                                                                             \n",
            "                                                                                                  \n",
            " concatenate_5 (Concatenate  (None, 188, 108, 512)        0         ['conv2d_transpose_5[0][0]',  \n",
            " )                                                                   'tf.image.resize_5[0][0]']   \n",
            "                                                                                                  \n",
            " conv2d_31 (Conv2D)          (None, 188, 108, 256)        1179904   ['concatenate_5[0][0]']       \n",
            "                                                                                                  \n",
            " batch_normalization_30 (Ba  (None, 188, 108, 256)        1024      ['conv2d_31[0][0]']           \n",
            " tchNormalization)                                                                                \n",
            "                                                                                                  \n",
            " activation_30 (Activation)  (None, 188, 108, 256)        0         ['batch_normalization_30[0][0]\n",
            "                                                                    ']                            \n",
            "                                                                                                  \n",
            " conv2d_32 (Conv2D)          (None, 188, 108, 256)        590080    ['activation_30[0][0]']       \n",
            "                                                                                                  \n",
            " batch_normalization_31 (Ba  (None, 188, 108, 256)        1024      ['conv2d_32[0][0]']           \n",
            " tchNormalization)                                                                                \n",
            "                                                                                                  \n",
            " activation_31 (Activation)  (None, 188, 108, 256)        0         ['batch_normalization_31[0][0]\n",
            "                                                                    ']                            \n",
            "                                                                                                  \n",
            " conv2d_transpose_6 (Conv2D  (None, 376, 216, 128)        131200    ['activation_31[0][0]']       \n",
            " Transpose)                                                                                       \n",
            "                                                                                                  \n",
            " tf.image.resize_6 (TFOpLam  (None, 376, 216, 128)        0         ['activation_21[0][0]']       \n",
            " bda)                                                                                             \n",
            "                                                                                                  \n",
            " concatenate_6 (Concatenate  (None, 376, 216, 256)        0         ['conv2d_transpose_6[0][0]',  \n",
            " )                                                                   'tf.image.resize_6[0][0]']   \n",
            "                                                                                                  \n",
            " conv2d_33 (Conv2D)          (None, 376, 216, 128)        295040    ['concatenate_6[0][0]']       \n",
            "                                                                                                  \n",
            " batch_normalization_32 (Ba  (None, 376, 216, 128)        512       ['conv2d_33[0][0]']           \n",
            " tchNormalization)                                                                                \n",
            "                                                                                                  \n",
            " activation_32 (Activation)  (None, 376, 216, 128)        0         ['batch_normalization_32[0][0]\n",
            "                                                                    ']                            \n",
            "                                                                                                  \n",
            " conv2d_34 (Conv2D)          (None, 376, 216, 128)        147584    ['activation_32[0][0]']       \n",
            "                                                                                                  \n",
            " batch_normalization_33 (Ba  (None, 376, 216, 128)        512       ['conv2d_34[0][0]']           \n",
            " tchNormalization)                                                                                \n",
            "                                                                                                  \n",
            " activation_33 (Activation)  (None, 376, 216, 128)        0         ['batch_normalization_33[0][0]\n",
            "                                                                    ']                            \n",
            "                                                                                                  \n",
            " conv2d_transpose_7 (Conv2D  (None, 752, 432, 64)         32832     ['activation_33[0][0]']       \n",
            " Transpose)                                                                                       \n",
            "                                                                                                  \n",
            " tf.image.resize_7 (TFOpLam  (None, 752, 432, 64)         0         ['activation_19[0][0]']       \n",
            " bda)                                                                                             \n",
            "                                                                                                  \n",
            " concatenate_7 (Concatenate  (None, 752, 432, 128)        0         ['conv2d_transpose_7[0][0]',  \n",
            " )                                                                   'tf.image.resize_7[0][0]']   \n",
            "                                                                                                  \n",
            " conv2d_35 (Conv2D)          (None, 752, 432, 64)         73792     ['concatenate_7[0][0]']       \n",
            "                                                                                                  \n",
            " batch_normalization_34 (Ba  (None, 752, 432, 64)         256       ['conv2d_35[0][0]']           \n",
            " tchNormalization)                                                                                \n",
            "                                                                                                  \n",
            " activation_34 (Activation)  (None, 752, 432, 64)         0         ['batch_normalization_34[0][0]\n",
            "                                                                    ']                            \n",
            "                                                                                                  \n",
            " conv2d_36 (Conv2D)          (None, 752, 432, 64)         36928     ['activation_34[0][0]']       \n",
            "                                                                                                  \n",
            " batch_normalization_35 (Ba  (None, 752, 432, 64)         256       ['conv2d_36[0][0]']           \n",
            " tchNormalization)                                                                                \n",
            "                                                                                                  \n",
            " activation_35 (Activation)  (None, 752, 432, 64)         0         ['batch_normalization_35[0][0]\n",
            "                                                                    ']                            \n",
            "                                                                                                  \n",
            " conv2d_37 (Conv2D)          (None, 752, 432, 1)          65        ['activation_35[0][0]']       \n",
            "                                                                                                  \n",
            "==================================================================================================\n",
            "Total params: 31055297 (118.47 MB)\n",
            "Trainable params: 31043521 (118.42 MB)\n",
            "Non-trainable params: 11776 (46.00 KB)\n",
            "__________________________________________________________________________________________________\n"
          ]
        }
      ]
    },
    {
      "cell_type": "markdown",
      "source": [
        "### Load test dataset"
      ],
      "metadata": {
        "id": "iHV3U8w_jumw"
      }
    },
    {
      "cell_type": "code",
      "source": [
        "test_x = sorted(glob(os.path.join(dataset_path_test,\"test_image\",\"*\" )))\n",
        "print(f\"Test Images:{len(test_x)}\")"
      ],
      "metadata": {
        "colab": {
          "base_uri": "https://localhost:8080/"
        },
        "id": "riYUDmpij7LK",
        "outputId": "28f47c7a-e127-4f70-8c9c-72386b0fa9b0"
      },
      "execution_count": 110,
      "outputs": [
        {
          "output_type": "stream",
          "name": "stdout",
          "text": [
            "Test Images:67\n"
          ]
        }
      ]
    },
    {
      "cell_type": "code",
      "source": [
        "test_x[0]"
      ],
      "metadata": {
        "colab": {
          "base_uri": "https://localhost:8080/",
          "height": 35
        },
        "id": "p3BuwPEEknq4",
        "outputId": "401f135a-a731-4794-b8d9-bcd0784327a3"
      },
      "execution_count": 111,
      "outputs": [
        {
          "output_type": "execute_result",
          "data": {
            "text/plain": [
              "'/content/drive/MyDrive/Cancer Dataset/test2/test_image/1.png'"
            ],
            "application/vnd.google.colaboratory.intrinsic+json": {
              "type": "string"
            }
          },
          "metadata": {},
          "execution_count": 111
        }
      ]
    },
    {
      "cell_type": "code",
      "source": [
        "import os\n",
        "import cv2\n",
        "\n",
        "\n",
        "input_folder = '/content/drive/MyDrive/Cancer Dataset/test/adenocarcinoma_test'\n",
        "output_folder = '/content/drive/MyDrive/Cancer Dataset/test2/test_image'\n",
        "\n",
        "\n",
        "target_size = (432, 752)\n",
        "\n",
        "\n",
        "if not os.path.exists(output_folder):\n",
        "    os.makedirs(output_folder)\n",
        "\n",
        "\n",
        "for filename in os.listdir(input_folder):\n",
        "\n",
        "    if filename.lower().endswith(('.png', '.jpg', '.jpeg')):\n",
        "\n",
        "        image_path = os.path.join(input_folder, filename)\n",
        "        image = cv2.imread(image_path)\n",
        "\n",
        "\n",
        "        resized_image = cv2.resize(image, target_size)\n",
        "\n",
        "\n",
        "        output_path = os.path.join(output_folder, filename)\n",
        "        cv2.imwrite(output_path, resized_image)\n",
        "\n",
        "print(\"Resizing complete.\")\n"
      ],
      "metadata": {
        "colab": {
          "base_uri": "https://localhost:8080/"
        },
        "id": "0jhrci2DnLoI",
        "outputId": "66f4af65-1d21-4d0d-dc84-baa67863cbcb"
      },
      "execution_count": 112,
      "outputs": [
        {
          "output_type": "stream",
          "name": "stdout",
          "text": [
            "Resizing complete.\n"
          ]
        }
      ]
    },
    {
      "cell_type": "code",
      "source": [
        "# Mask resizing\n",
        "import os\n",
        "import cv2\n",
        "\n",
        "\n",
        "input_folder = '/content/drive/MyDrive/Cancer Dataset/test/mask'\n",
        "output_folder = '/content/drive/MyDrive/Cancer Dataset/test2/test_mask'\n",
        "\n",
        "\n",
        "target_size = (432, 752)\n",
        "\n",
        "\n",
        "if not os.path.exists(output_folder):\n",
        "    os.makedirs(output_folder)\n",
        "\n",
        "\n",
        "for filename in os.listdir(input_folder):\n",
        "    if filename.lower().endswith(('.png', '.jpg', '.jpeg')):\n",
        "        image_path = os.path.join(input_folder, filename)\n",
        "        image = cv2.imread(image_path)\n",
        "        resized_image = cv2.resize(image, target_size)\n",
        "        output_path = os.path.join(output_folder, filename)\n",
        "        cv2.imwrite(output_path, resized_image)\n",
        "\n",
        "print(\"Resizing complete.\")\n"
      ],
      "metadata": {
        "colab": {
          "base_uri": "https://localhost:8080/"
        },
        "id": "tusOc4oSoeMn",
        "outputId": "70637fc4-f230-4a59-eb06-af3e31f877a4"
      },
      "execution_count": 113,
      "outputs": [
        {
          "output_type": "stream",
          "name": "stdout",
          "text": [
            "Resizing complete.\n"
          ]
        }
      ]
    },
    {
      "cell_type": "markdown",
      "source": [
        "### Predict th mask"
      ],
      "metadata": {
        "id": "x3yUQgvqksyA"
      }
    },
    {
      "cell_type": "code",
      "source": [
        "time_taken = []\n",
        "\n",
        "for x in tqdm(test_x):\n",
        "  print(\"\")\n",
        "  name = x.split(\"/\")[-1]\n",
        "\n",
        "  x = cv2.imread(x, cv2.IMREAD_COLOR)\n",
        "  x = x / 255.0\n",
        "  x = np.expand_dims(x, axis = 0)\n",
        "\n",
        "  start_time = time.time()\n",
        "  p = model.predict(x)[0]\n",
        "  total_time = time.time() - start_time\n",
        "  time_taken.append(total_time)\n",
        "\n",
        "  p = p*255\n",
        "  cv2.imwrite(os.path.join(save_path, name), p)"
      ],
      "metadata": {
        "colab": {
          "base_uri": "https://localhost:8080/"
        },
        "id": "7zun4KV8k275",
        "outputId": "16ea4f0f-ce24-4ca4-eb60-1f0719809502"
      },
      "execution_count": 114,
      "outputs": [
        {
          "output_type": "stream",
          "name": "stderr",
          "text": [
            "\r  0%|          | 0/67 [00:00<?, ?it/s]"
          ]
        },
        {
          "output_type": "stream",
          "name": "stdout",
          "text": [
            "\n",
            "1/1 [==============================] - 0s 429ms/step\n"
          ]
        },
        {
          "output_type": "stream",
          "name": "stderr",
          "text": [
            "\r  1%|▏         | 1/67 [00:00<00:44,  1.49it/s]"
          ]
        },
        {
          "output_type": "stream",
          "name": "stdout",
          "text": [
            "\n",
            "1/1 [==============================] - 0s 21ms/step\n"
          ]
        },
        {
          "output_type": "stream",
          "name": "stderr",
          "text": [
            "\r  3%|▎         | 2/67 [00:00<00:26,  2.44it/s]"
          ]
        },
        {
          "output_type": "stream",
          "name": "stdout",
          "text": [
            "\n",
            "1/1 [==============================] - 0s 23ms/step\n"
          ]
        },
        {
          "output_type": "stream",
          "name": "stderr",
          "text": [
            "\r  4%|▍         | 3/67 [00:01<00:28,  2.22it/s]"
          ]
        },
        {
          "output_type": "stream",
          "name": "stdout",
          "text": [
            "\n",
            "1/1 [==============================] - 0s 23ms/step\n"
          ]
        },
        {
          "output_type": "stream",
          "name": "stderr",
          "text": [
            "\r  6%|▌         | 4/67 [00:01<00:21,  2.88it/s]"
          ]
        },
        {
          "output_type": "stream",
          "name": "stdout",
          "text": [
            "\n",
            "1/1 [==============================] - 0s 25ms/step\n"
          ]
        },
        {
          "output_type": "stream",
          "name": "stderr",
          "text": [
            "\r  7%|▋         | 5/67 [00:01<00:18,  3.33it/s]"
          ]
        },
        {
          "output_type": "stream",
          "name": "stdout",
          "text": [
            "\n",
            "1/1 [==============================] - 0s 24ms/step\n"
          ]
        },
        {
          "output_type": "stream",
          "name": "stderr",
          "text": [
            "\r  9%|▉         | 6/67 [00:01<00:16,  3.80it/s]"
          ]
        },
        {
          "output_type": "stream",
          "name": "stdout",
          "text": [
            "\n",
            "1/1 [==============================] - 0s 22ms/step\n"
          ]
        },
        {
          "output_type": "stream",
          "name": "stderr",
          "text": [
            "\r 10%|█         | 7/67 [00:02<00:15,  3.91it/s]"
          ]
        },
        {
          "output_type": "stream",
          "name": "stdout",
          "text": [
            "\n",
            "1/1 [==============================] - 0s 22ms/step\n"
          ]
        },
        {
          "output_type": "stream",
          "name": "stderr",
          "text": [
            "\r 12%|█▏        | 8/67 [00:02<00:13,  4.28it/s]"
          ]
        },
        {
          "output_type": "stream",
          "name": "stdout",
          "text": [
            "\n",
            "1/1 [==============================] - 0s 27ms/step\n"
          ]
        },
        {
          "output_type": "stream",
          "name": "stderr",
          "text": [
            "\r 13%|█▎        | 9/67 [00:02<00:13,  4.29it/s]"
          ]
        },
        {
          "output_type": "stream",
          "name": "stdout",
          "text": [
            "\n",
            "1/1 [==============================] - 0s 21ms/step\n"
          ]
        },
        {
          "output_type": "stream",
          "name": "stderr",
          "text": [
            "\r 15%|█▍        | 10/67 [00:02<00:12,  4.57it/s]"
          ]
        },
        {
          "output_type": "stream",
          "name": "stdout",
          "text": [
            "\n",
            "1/1 [==============================] - 0s 23ms/step\n"
          ]
        },
        {
          "output_type": "stream",
          "name": "stderr",
          "text": [
            "\r 16%|█▋        | 11/67 [00:03<00:12,  4.51it/s]"
          ]
        },
        {
          "output_type": "stream",
          "name": "stdout",
          "text": [
            "\n",
            "1/1 [==============================] - 0s 22ms/step\n"
          ]
        },
        {
          "output_type": "stream",
          "name": "stderr",
          "text": [
            "\r 18%|█▊        | 12/67 [00:03<00:11,  4.70it/s]"
          ]
        },
        {
          "output_type": "stream",
          "name": "stdout",
          "text": [
            "\n",
            "1/1 [==============================] - 0s 23ms/step\n"
          ]
        },
        {
          "output_type": "stream",
          "name": "stderr",
          "text": [
            "\r 19%|█▉        | 13/67 [00:03<00:11,  4.63it/s]"
          ]
        },
        {
          "output_type": "stream",
          "name": "stdout",
          "text": [
            "\n",
            "1/1 [==============================] - 0s 25ms/step\n"
          ]
        },
        {
          "output_type": "stream",
          "name": "stderr",
          "text": [
            "\r 21%|██        | 14/67 [00:03<00:11,  4.79it/s]"
          ]
        },
        {
          "output_type": "stream",
          "name": "stdout",
          "text": [
            "\n",
            "1/1 [==============================] - 0s 31ms/step\n"
          ]
        },
        {
          "output_type": "stream",
          "name": "stderr",
          "text": [
            "\r 22%|██▏       | 15/67 [00:03<00:10,  4.78it/s]"
          ]
        },
        {
          "output_type": "stream",
          "name": "stdout",
          "text": [
            "\n",
            "1/1 [==============================] - 0s 40ms/step\n"
          ]
        },
        {
          "output_type": "stream",
          "name": "stderr",
          "text": [
            "\r 24%|██▍       | 16/67 [00:04<00:11,  4.52it/s]"
          ]
        },
        {
          "output_type": "stream",
          "name": "stdout",
          "text": [
            "\n",
            "1/1 [==============================] - 0s 45ms/step\n"
          ]
        },
        {
          "output_type": "stream",
          "name": "stderr",
          "text": [
            "\r 25%|██▌       | 17/67 [00:04<00:11,  4.50it/s]"
          ]
        },
        {
          "output_type": "stream",
          "name": "stdout",
          "text": [
            "\n",
            "1/1 [==============================] - 0s 31ms/step\n"
          ]
        },
        {
          "output_type": "stream",
          "name": "stderr",
          "text": [
            "\r 27%|██▋       | 18/67 [00:04<00:11,  4.38it/s]"
          ]
        },
        {
          "output_type": "stream",
          "name": "stdout",
          "text": [
            "\n",
            "1/1 [==============================] - 0s 29ms/step\n"
          ]
        },
        {
          "output_type": "stream",
          "name": "stderr",
          "text": [
            "\r 28%|██▊       | 19/67 [00:04<00:11,  4.26it/s]"
          ]
        },
        {
          "output_type": "stream",
          "name": "stdout",
          "text": [
            "\n",
            "1/1 [==============================] - 0s 36ms/step\n"
          ]
        },
        {
          "output_type": "stream",
          "name": "stderr",
          "text": [
            "\r 30%|██▉       | 20/67 [00:05<00:11,  4.12it/s]"
          ]
        },
        {
          "output_type": "stream",
          "name": "stdout",
          "text": [
            "\n",
            "1/1 [==============================] - 0s 32ms/step\n"
          ]
        },
        {
          "output_type": "stream",
          "name": "stderr",
          "text": [
            "\r 31%|███▏      | 21/67 [00:05<00:11,  3.96it/s]"
          ]
        },
        {
          "output_type": "stream",
          "name": "stdout",
          "text": [
            "\n",
            "1/1 [==============================] - 0s 34ms/step\n"
          ]
        },
        {
          "output_type": "stream",
          "name": "stderr",
          "text": [
            "\r 33%|███▎      | 22/67 [00:05<00:11,  3.98it/s]"
          ]
        },
        {
          "output_type": "stream",
          "name": "stdout",
          "text": [
            "\n",
            "1/1 [==============================] - 0s 29ms/step\n"
          ]
        },
        {
          "output_type": "stream",
          "name": "stderr",
          "text": [
            "\r 34%|███▍      | 23/67 [00:05<00:10,  4.02it/s]"
          ]
        },
        {
          "output_type": "stream",
          "name": "stdout",
          "text": [
            "\n",
            "1/1 [==============================] - 0s 30ms/step\n"
          ]
        },
        {
          "output_type": "stream",
          "name": "stderr",
          "text": [
            "\r 36%|███▌      | 24/67 [00:06<00:10,  3.93it/s]"
          ]
        },
        {
          "output_type": "stream",
          "name": "stdout",
          "text": [
            "\n",
            "1/1 [==============================] - 0s 36ms/step\n"
          ]
        },
        {
          "output_type": "stream",
          "name": "stderr",
          "text": [
            "\r 37%|███▋      | 25/67 [00:06<00:10,  3.94it/s]"
          ]
        },
        {
          "output_type": "stream",
          "name": "stdout",
          "text": [
            "\n",
            "1/1 [==============================] - 0s 30ms/step\n"
          ]
        },
        {
          "output_type": "stream",
          "name": "stderr",
          "text": [
            "\r 39%|███▉      | 26/67 [00:06<00:10,  3.98it/s]"
          ]
        },
        {
          "output_type": "stream",
          "name": "stdout",
          "text": [
            "\n",
            "1/1 [==============================] - 0s 30ms/step\n"
          ]
        },
        {
          "output_type": "stream",
          "name": "stderr",
          "text": [
            "\r 40%|████      | 27/67 [00:06<00:10,  3.99it/s]"
          ]
        },
        {
          "output_type": "stream",
          "name": "stdout",
          "text": [
            "\n",
            "1/1 [==============================] - 0s 31ms/step\n"
          ]
        },
        {
          "output_type": "stream",
          "name": "stderr",
          "text": [
            "\r 42%|████▏     | 28/67 [00:07<00:09,  4.19it/s]"
          ]
        },
        {
          "output_type": "stream",
          "name": "stdout",
          "text": [
            "\n",
            "1/1 [==============================] - 0s 39ms/step\n"
          ]
        },
        {
          "output_type": "stream",
          "name": "stderr",
          "text": [
            "\r 43%|████▎     | 29/67 [00:07<00:08,  4.29it/s]"
          ]
        },
        {
          "output_type": "stream",
          "name": "stdout",
          "text": [
            "\n",
            "1/1 [==============================] - 0s 42ms/step\n"
          ]
        },
        {
          "output_type": "stream",
          "name": "stderr",
          "text": [
            "\r 45%|████▍     | 30/67 [00:07<00:08,  4.27it/s]"
          ]
        },
        {
          "output_type": "stream",
          "name": "stdout",
          "text": [
            "\n",
            "1/1 [==============================] - 0s 32ms/step\n"
          ]
        },
        {
          "output_type": "stream",
          "name": "stderr",
          "text": [
            "\r 46%|████▋     | 31/67 [00:07<00:08,  4.38it/s]"
          ]
        },
        {
          "output_type": "stream",
          "name": "stdout",
          "text": [
            "\n",
            "1/1 [==============================] - 0s 52ms/step\n"
          ]
        },
        {
          "output_type": "stream",
          "name": "stderr",
          "text": [
            "\r 48%|████▊     | 32/67 [00:08<00:08,  4.11it/s]"
          ]
        },
        {
          "output_type": "stream",
          "name": "stdout",
          "text": [
            "\n",
            "1/1 [==============================] - 0s 32ms/step\n"
          ]
        },
        {
          "output_type": "stream",
          "name": "stderr",
          "text": [
            "\r 49%|████▉     | 33/67 [00:08<00:08,  4.10it/s]"
          ]
        },
        {
          "output_type": "stream",
          "name": "stdout",
          "text": [
            "\n",
            "1/1 [==============================] - 0s 46ms/step\n"
          ]
        },
        {
          "output_type": "stream",
          "name": "stderr",
          "text": [
            "\r 51%|█████     | 34/67 [00:08<00:08,  4.06it/s]"
          ]
        },
        {
          "output_type": "stream",
          "name": "stdout",
          "text": [
            "\n",
            "1/1 [==============================] - 0s 32ms/step\n"
          ]
        },
        {
          "output_type": "stream",
          "name": "stderr",
          "text": [
            "\r 52%|█████▏    | 35/67 [00:08<00:07,  4.07it/s]"
          ]
        },
        {
          "output_type": "stream",
          "name": "stdout",
          "text": [
            "\n",
            "1/1 [==============================] - 0s 34ms/step\n"
          ]
        },
        {
          "output_type": "stream",
          "name": "stderr",
          "text": [
            "\r 54%|█████▎    | 36/67 [00:09<00:07,  4.00it/s]"
          ]
        },
        {
          "output_type": "stream",
          "name": "stdout",
          "text": [
            "\n",
            "1/1 [==============================] - 0s 32ms/step\n"
          ]
        },
        {
          "output_type": "stream",
          "name": "stderr",
          "text": [
            "\r 55%|█████▌    | 37/67 [00:09<00:07,  4.03it/s]"
          ]
        },
        {
          "output_type": "stream",
          "name": "stdout",
          "text": [
            "\n",
            "1/1 [==============================] - 0s 25ms/step\n"
          ]
        },
        {
          "output_type": "stream",
          "name": "stderr",
          "text": [
            "\r 57%|█████▋    | 38/67 [00:09<00:06,  4.30it/s]"
          ]
        },
        {
          "output_type": "stream",
          "name": "stdout",
          "text": [
            "\n",
            "1/1 [==============================] - 0s 24ms/step\n"
          ]
        },
        {
          "output_type": "stream",
          "name": "stderr",
          "text": [
            "\r 58%|█████▊    | 39/67 [00:09<00:06,  4.37it/s]"
          ]
        },
        {
          "output_type": "stream",
          "name": "stdout",
          "text": [
            "\n",
            "1/1 [==============================] - 0s 24ms/step\n"
          ]
        },
        {
          "output_type": "stream",
          "name": "stderr",
          "text": [
            "\r 60%|█████▉    | 40/67 [00:09<00:06,  4.43it/s]"
          ]
        },
        {
          "output_type": "stream",
          "name": "stdout",
          "text": [
            "\n",
            "1/1 [==============================] - 0s 23ms/step\n"
          ]
        },
        {
          "output_type": "stream",
          "name": "stderr",
          "text": [
            "\r 61%|██████    | 41/67 [00:10<00:05,  4.57it/s]"
          ]
        },
        {
          "output_type": "stream",
          "name": "stdout",
          "text": [
            "\n",
            "1/1 [==============================] - 0s 22ms/step\n"
          ]
        },
        {
          "output_type": "stream",
          "name": "stderr",
          "text": [
            "\r 63%|██████▎   | 42/67 [00:10<00:05,  4.74it/s]"
          ]
        },
        {
          "output_type": "stream",
          "name": "stdout",
          "text": [
            "\n",
            "1/1 [==============================] - 0s 21ms/step\n"
          ]
        },
        {
          "output_type": "stream",
          "name": "stderr",
          "text": [
            "\r 64%|██████▍   | 43/67 [00:10<00:05,  4.66it/s]"
          ]
        },
        {
          "output_type": "stream",
          "name": "stdout",
          "text": [
            "\n",
            "1/1 [==============================] - 0s 25ms/step\n"
          ]
        },
        {
          "output_type": "stream",
          "name": "stderr",
          "text": [
            "\r 66%|██████▌   | 44/67 [00:10<00:04,  4.84it/s]"
          ]
        },
        {
          "output_type": "stream",
          "name": "stdout",
          "text": [
            "\n",
            "1/1 [==============================] - 0s 23ms/step\n"
          ]
        },
        {
          "output_type": "stream",
          "name": "stderr",
          "text": [
            "\r 67%|██████▋   | 45/67 [00:10<00:04,  4.86it/s]"
          ]
        },
        {
          "output_type": "stream",
          "name": "stdout",
          "text": [
            "\n",
            "1/1 [==============================] - 0s 21ms/step\n"
          ]
        },
        {
          "output_type": "stream",
          "name": "stderr",
          "text": [
            "\r 69%|██████▊   | 46/67 [00:11<00:04,  4.75it/s]"
          ]
        },
        {
          "output_type": "stream",
          "name": "stdout",
          "text": [
            "\n",
            "1/1 [==============================] - 0s 23ms/step\n"
          ]
        },
        {
          "output_type": "stream",
          "name": "stderr",
          "text": [
            "\r 70%|███████   | 47/67 [00:11<00:04,  4.84it/s]"
          ]
        },
        {
          "output_type": "stream",
          "name": "stdout",
          "text": [
            "\n",
            "1/1 [==============================] - 0s 24ms/step\n"
          ]
        },
        {
          "output_type": "stream",
          "name": "stderr",
          "text": [
            "\r 72%|███████▏  | 48/67 [00:11<00:04,  4.74it/s]"
          ]
        },
        {
          "output_type": "stream",
          "name": "stdout",
          "text": [
            "\n",
            "1/1 [==============================] - 0s 25ms/step\n"
          ]
        },
        {
          "output_type": "stream",
          "name": "stderr",
          "text": [
            "\r 73%|███████▎  | 49/67 [00:11<00:03,  4.64it/s]"
          ]
        },
        {
          "output_type": "stream",
          "name": "stdout",
          "text": [
            "\n",
            "1/1 [==============================] - 0s 24ms/step\n"
          ]
        },
        {
          "output_type": "stream",
          "name": "stderr",
          "text": [
            "\r 75%|███████▍  | 50/67 [00:12<00:03,  4.79it/s]"
          ]
        },
        {
          "output_type": "stream",
          "name": "stdout",
          "text": [
            "\n",
            "1/1 [==============================] - 0s 22ms/step\n"
          ]
        },
        {
          "output_type": "stream",
          "name": "stderr",
          "text": [
            "\r 76%|███████▌  | 51/67 [00:12<00:03,  4.89it/s]"
          ]
        },
        {
          "output_type": "stream",
          "name": "stdout",
          "text": [
            "\n",
            "1/1 [==============================] - 0s 24ms/step\n"
          ]
        },
        {
          "output_type": "stream",
          "name": "stderr",
          "text": [
            "\r 78%|███████▊  | 52/67 [00:12<00:03,  4.99it/s]"
          ]
        },
        {
          "output_type": "stream",
          "name": "stdout",
          "text": [
            "\n",
            "1/1 [==============================] - 0s 22ms/step\n"
          ]
        },
        {
          "output_type": "stream",
          "name": "stderr",
          "text": [
            "\r 79%|███████▉  | 53/67 [00:12<00:02,  5.07it/s]"
          ]
        },
        {
          "output_type": "stream",
          "name": "stdout",
          "text": [
            "\n",
            "1/1 [==============================] - 0s 22ms/step\n"
          ]
        },
        {
          "output_type": "stream",
          "name": "stderr",
          "text": [
            "\r 81%|████████  | 54/67 [00:12<00:02,  5.15it/s]"
          ]
        },
        {
          "output_type": "stream",
          "name": "stdout",
          "text": [
            "\n",
            "1/1 [==============================] - 0s 26ms/step\n"
          ]
        },
        {
          "output_type": "stream",
          "name": "stderr",
          "text": [
            "\r 82%|████████▏ | 55/67 [00:12<00:02,  5.13it/s]"
          ]
        },
        {
          "output_type": "stream",
          "name": "stdout",
          "text": [
            "\n",
            "1/1 [==============================] - 0s 22ms/step\n"
          ]
        },
        {
          "output_type": "stream",
          "name": "stderr",
          "text": [
            "\r 84%|████████▎ | 56/67 [00:13<00:02,  5.19it/s]"
          ]
        },
        {
          "output_type": "stream",
          "name": "stdout",
          "text": [
            "\n",
            "1/1 [==============================] - 0s 21ms/step\n"
          ]
        },
        {
          "output_type": "stream",
          "name": "stderr",
          "text": [
            "\r 85%|████████▌ | 57/67 [00:13<00:02,  4.97it/s]"
          ]
        },
        {
          "output_type": "stream",
          "name": "stdout",
          "text": [
            "\n",
            "1/1 [==============================] - 0s 22ms/step\n"
          ]
        },
        {
          "output_type": "stream",
          "name": "stderr",
          "text": [
            "\r 87%|████████▋ | 58/67 [00:13<00:01,  4.92it/s]"
          ]
        },
        {
          "output_type": "stream",
          "name": "stdout",
          "text": [
            "\n",
            "1/1 [==============================] - 0s 21ms/step\n"
          ]
        },
        {
          "output_type": "stream",
          "name": "stderr",
          "text": [
            "\r 88%|████████▊ | 59/67 [00:13<00:01,  5.06it/s]"
          ]
        },
        {
          "output_type": "stream",
          "name": "stdout",
          "text": [
            "\n",
            "1/1 [==============================] - 0s 23ms/step\n"
          ]
        },
        {
          "output_type": "stream",
          "name": "stderr",
          "text": [
            "\r 90%|████████▉ | 60/67 [00:13<00:01,  5.06it/s]"
          ]
        },
        {
          "output_type": "stream",
          "name": "stdout",
          "text": [
            "\n",
            "1/1 [==============================] - 0s 21ms/step\n"
          ]
        },
        {
          "output_type": "stream",
          "name": "stderr",
          "text": [
            "\r 91%|█████████ | 61/67 [00:14<00:01,  4.89it/s]"
          ]
        },
        {
          "output_type": "stream",
          "name": "stdout",
          "text": [
            "\n",
            "1/1 [==============================] - 0s 26ms/step\n"
          ]
        },
        {
          "output_type": "stream",
          "name": "stderr",
          "text": [
            "\r 93%|█████████▎| 62/67 [00:14<00:01,  4.97it/s]"
          ]
        },
        {
          "output_type": "stream",
          "name": "stdout",
          "text": [
            "\n",
            "1/1 [==============================] - 0s 23ms/step\n"
          ]
        },
        {
          "output_type": "stream",
          "name": "stderr",
          "text": [
            "\r 94%|█████████▍| 63/67 [00:14<00:00,  5.10it/s]"
          ]
        },
        {
          "output_type": "stream",
          "name": "stdout",
          "text": [
            "\n",
            "1/1 [==============================] - 0s 24ms/step\n"
          ]
        },
        {
          "output_type": "stream",
          "name": "stderr",
          "text": [
            "\r 96%|█████████▌| 64/67 [00:14<00:00,  5.11it/s]"
          ]
        },
        {
          "output_type": "stream",
          "name": "stdout",
          "text": [
            "\n",
            "1/1 [==============================] - 0s 24ms/step\n"
          ]
        },
        {
          "output_type": "stream",
          "name": "stderr",
          "text": [
            "\r 97%|█████████▋| 65/67 [00:14<00:00,  5.18it/s]"
          ]
        },
        {
          "output_type": "stream",
          "name": "stdout",
          "text": [
            "\n",
            "1/1 [==============================] - 0s 21ms/step\n"
          ]
        },
        {
          "output_type": "stream",
          "name": "stderr",
          "text": [
            "\r 99%|█████████▊| 66/67 [00:15<00:00,  4.96it/s]"
          ]
        },
        {
          "output_type": "stream",
          "name": "stdout",
          "text": [
            "\n",
            "1/1 [==============================] - 0s 23ms/step\n"
          ]
        },
        {
          "output_type": "stream",
          "name": "stderr",
          "text": [
            "100%|██████████| 67/67 [00:15<00:00,  4.36it/s]\n"
          ]
        }
      ]
    },
    {
      "cell_type": "markdown",
      "source": [
        "### Calculating Accuracy"
      ],
      "metadata": {
        "id": "QwnQCOWLowJK"
      }
    },
    {
      "cell_type": "code",
      "source": [
        "import os\n",
        "import numpy as np\n",
        "import cv2\n",
        "from glob import glob\n",
        "from tqdm import tqdm\n",
        "from sklearn.metrics import accuracy_score, f1_score, jaccard_score, precision_score, recall_score"
      ],
      "metadata": {
        "id": "7ZnXW_S4bxpM"
      },
      "execution_count": 115,
      "outputs": []
    },
    {
      "cell_type": "code",
      "source": [
        "pred_mask_data = \"/content/drive/MyDrive/Cancer_Dataset/prediction\""
      ],
      "metadata": {
        "id": "PGqfuPCEiyz2"
      },
      "execution_count": 116,
      "outputs": []
    },
    {
      "cell_type": "code",
      "source": [
        "pred_mask = sorted(glob(os.path.join(\"/content/drive/MyDrive/Cancer Dataset/ prediction/non-aug/*\")))\n",
        "true_mask = sorted(glob(os.path.join(\"/content/drive/MyDrive/Cancer Dataset/test2/test_mask/*\")))"
      ],
      "metadata": {
        "id": "zP6O4ri3cJOe"
      },
      "execution_count": 117,
      "outputs": []
    },
    {
      "cell_type": "code",
      "source": [
        "print(pred_mask[0], true_mask[0])"
      ],
      "metadata": {
        "colab": {
          "base_uri": "https://localhost:8080/"
        },
        "id": "RuTUMgwHhNuW",
        "outputId": "daefd546-2bcb-460a-fe70-6fdcae32cafa"
      },
      "execution_count": 118,
      "outputs": [
        {
          "output_type": "stream",
          "name": "stdout",
          "text": [
            "/content/drive/MyDrive/Cancer Dataset/ prediction/non-aug/1.png /content/drive/MyDrive/Cancer Dataset/test2/test_mask/1.png\n"
          ]
        }
      ]
    },
    {
      "cell_type": "code",
      "source": [
        "score = []\n",
        "\n",
        "for pred_y, true_y in tqdm(zip(pred_mask, true_mask), total=len(pred_mask)):\n",
        "  name = pred_y.split(\"/\")[-1]\n",
        "\n",
        "  pred_y = cv2.imread(pred_y, cv2.IMREAD_GRAYSCALE)\n",
        "  pred_y = pred_y/255.0\n",
        "  pred_y = pred_y > 0.5\n",
        "  pred_y = pred_y.astype(np.int32)\n",
        "  pred_y = pred_y.flatten()\n",
        "\n",
        "  true_y = cv2.imread(true_y, cv2.IMREAD_GRAYSCALE)\n",
        "  true_y = true_y/255.0\n",
        "  true_y = true_y > 0.5\n",
        "  true_y = true_y.astype(np.int32)\n",
        "  true_y = true_y.flatten()\n",
        "\n",
        "  acc_value = accuracy_score(pred_y, true_y)\n",
        "  ft_value = f1_score(pred_y, true_y, labels=[0,1], average=\"binary\")\n",
        "  score.append([name, acc_value])\n"
      ],
      "metadata": {
        "colab": {
          "base_uri": "https://localhost:8080/"
        },
        "id": "Q7XwuD6ihNxu",
        "outputId": "8852b9d0-8cd0-4832-96e2-42cbfe22eecb"
      },
      "execution_count": 119,
      "outputs": [
        {
          "output_type": "stream",
          "name": "stderr",
          "text": [
            "100%|██████████| 67/67 [00:10<00:00,  6.27it/s]\n"
          ]
        }
      ]
    },
    {
      "cell_type": "code",
      "source": [
        "score = [s[1:] for s in score]"
      ],
      "metadata": {
        "id": "633ywbNlg7FM"
      },
      "execution_count": 120,
      "outputs": []
    },
    {
      "cell_type": "code",
      "source": [
        "mean_score = np.mean(score, axis=0)"
      ],
      "metadata": {
        "id": "6N1r4MUWhHsy"
      },
      "execution_count": 121,
      "outputs": []
    },
    {
      "cell_type": "code",
      "source": [
        "print(f\"Accuracy: {mean_score[0]:0.5f}\")"
      ],
      "metadata": {
        "colab": {
          "base_uri": "https://localhost:8080/"
        },
        "id": "GnE5qvE0wUym",
        "outputId": "3ac212e7-e12c-4f83-f387-385e1e1a9447"
      },
      "execution_count": 122,
      "outputs": [
        {
          "output_type": "stream",
          "name": "stdout",
          "text": [
            "Accuracy: 0.98498\n"
          ]
        }
      ]
    }
  ]
}